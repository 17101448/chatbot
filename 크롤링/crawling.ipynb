{
 "cells": [
  {
   "cell_type": "code",
   "execution_count": 1,
   "metadata": {},
   "outputs": [
    {
     "name": "stdout",
     "output_type": "stream",
     "text": [
      "Collecting bs4\n",
      "  Downloading bs4-0.0.1.tar.gz (1.1 kB)\n",
      "Collecting beautifulsoup4\n",
      "  Downloading beautifulsoup4-4.10.0-py3-none-any.whl (97 kB)\n",
      "Collecting soupsieve>1.2\n",
      "  Downloading soupsieve-2.3.1-py3-none-any.whl (37 kB)\n",
      "Using legacy 'setup.py install' for bs4, since package 'wheel' is not installed.\n",
      "Installing collected packages: soupsieve, beautifulsoup4, bs4\n",
      "    Running setup.py install for bs4: started\n",
      "    Running setup.py install for bs4: finished with status 'done'\n",
      "Successfully installed beautifulsoup4-4.10.0 bs4-0.0.1 soupsieve-2.3.1\n",
      "Note: you may need to restart the kernel to use updated packages.\n"
     ]
    },
    {
     "name": "stderr",
     "output_type": "stream",
     "text": [
      "WARNING: You are using pip version 21.2.4; however, version 21.3.1 is available.\n",
      "You should consider upgrading via the 'C:\\Users\\btl\\AppData\\Local\\Programs\\Python\\Python310\\python.exe -m pip install --upgrade pip' command.\n"
     ]
    }
   ],
   "source": [
    "pip install bs4"
   ]
  },
  {
   "cell_type": "markdown",
   "metadata": {},
   "source": [
    "\n",
    "라이브러리 페이지 : \n",
    "https://www.crummy.com/software/BeautifulSoup/bs4/doc/\n",
    "\n",
    "공식문서 : \n",
    "http://omz-software.com/pythonista/docs/ios/beautifulsoup_guide.html"
   ]
  },
  {
   "cell_type": "code",
   "execution_count": 3,
   "metadata": {},
   "outputs": [
    {
     "name": "stdout",
     "output_type": "stream",
     "text": [
      "Collecting requests\n",
      "  Downloading requests-2.26.0-py2.py3-none-any.whl (62 kB)\n",
      "Collecting idna<4,>=2.5\n",
      "  Downloading idna-3.3-py3-none-any.whl (61 kB)\n",
      "Collecting urllib3<1.27,>=1.21.1\n",
      "  Downloading urllib3-1.26.7-py2.py3-none-any.whl (138 kB)\n",
      "Collecting charset-normalizer~=2.0.0\n",
      "  Downloading charset_normalizer-2.0.9-py3-none-any.whl (39 kB)\n",
      "Collecting certifi>=2017.4.17\n",
      "  Downloading certifi-2021.10.8-py2.py3-none-any.whl (149 kB)\n",
      "Installing collected packages: urllib3, idna, charset-normalizer, certifi, requests\n",
      "Successfully installed certifi-2021.10.8 charset-normalizer-2.0.9 idna-3.3 requests-2.26.0 urllib3-1.26.7\n",
      "Note: you may need to restart the kernel to use updated packages.\n"
     ]
    },
    {
     "name": "stderr",
     "output_type": "stream",
     "text": [
      "  WARNING: The script normalizer.exe is installed in 'C:\\Users\\btl\\AppData\\Local\\Programs\\Python\\Python310\\Scripts' which is not on PATH.\n",
      "  Consider adding this directory to PATH or, if you prefer to suppress this warning, use --no-warn-script-location.\n",
      "WARNING: You are using pip version 21.2.4; however, version 21.3.1 is available.\n",
      "You should consider upgrading via the 'C:\\Users\\btl\\AppData\\Local\\Programs\\Python\\Python310\\python.exe -m pip install --upgrade pip' command.\n"
     ]
    }
   ],
   "source": [
    "pip install requests"
   ]
  },
  {
   "cell_type": "markdown",
   "metadata": {},
   "source": [
    "requests 모듈이란?\n",
    "requests는 python사용자들을 위해 만들어진 간단한 Python용 HTTP 라이브러리이며, 간단하게는 HTTP, HTTPS 웹 사이트에 요청하기 위해 자주 사용되는 모듈 중 하나이고\n",
    "\n",
    "Crawling 과정에서 requests모듈을 이용해 웹 사이트의 소스코드를 가져온 다음 파싱을 하는 경우가 많습니다.\n",
    "\n",
    "https://github.com/psf/requests\n",
    "https://docs.python-requests.org/en/latest/\n",
    "\n",
    "\n",
    "출처: \n",
    "https://me2nuk.com/Python-requests-module-example/\n"
   ]
  },
  {
   "cell_type": "code",
   "execution_count": 27,
   "metadata": {},
   "outputs": [
    {
     "name": "stdout",
     "output_type": "stream",
     "text": [
      "1 []\n",
      "잔금대출에도 DTI 규제 적용 검토\n",
      "금융당국이 급증하는 가계부채 증가세를 막기 위해 아파트 잔금대출에도 소득을 따져 대출한도를 정하는 총부채상환비율(DTI)을 적용하는 방안을 유력하게 검토하고 있다.\n",
      "<p>금융당국이 급증하는 가계부채 증가세를 막기 위해 아파트 잔금대출에도 소득을 따져 대출한도를 정하는 총부채상환비율(DTI)을 적용하는 방안을 유력하게 검토하고 있다.</p>\n",
      "<p>지금은 집값을 기준으로 대출한도를 매기는 주택담보인정비율(LTV) 규제만 적용돼 소득이 없어도 집값의 70%를 빌려 잔금을 치르는 게 가능하다.</p>\n",
      "<p>앞으로 잔금대출에 DTI가 적용되면 소득이 없는 사람은 집값의 70% 대출 받는 게 어려워진다.</p>\n",
      "<p class=\"desc_translate txt_newsview\">Translated by <a class=\"link_kakaoi #util #translate #kakaoi_link\" href=\"https://kakao.ai/\" target=\"_blank\">kakao i</a></p>\n",
      "<p dmcf-pid=\"nzrJ5KB3Cc\" dmcf-ptype=\"general\">내주 부동산 종합대책 발표</p>\n",
      "<p dmcf-pid=\"ncFbmYUgSc\" dmcf-ptype=\"general\">집값 상승 노린 투기 분양 차단</p>\n",
      "<p dmcf-pid=\"naDeB8j0HH\" dmcf-ptype=\"general\">LTVㆍDTI 규제 다시 강화할 듯</p>\n"
     ]
    }
   ],
   "source": [
    "import requests \n",
    "from bs4 import BeautifulSoup\n",
    "\n",
    "res = requests.get('https://news.v.daum.net/v/20170615203441266')\n",
    "\n",
    "#html 페이지 파싱 (html데이터, 파싱방법)\n",
    "soup = BeautifulSoup(res.content, 'html.parser')\n",
    "\n",
    "#필요한 데이터 검색 \n",
    "#find : 가장 먼저 검색되는 태그 반환 \n",
    "#find_all() : 전체 태그 반환 \n",
    "all = soup.find_all('p')\n",
    "title = soup.find('title')\n",
    "contents = soup.find('p')\n",
    "\n",
    "\n",
    "#태그나 아이디가 아닌 문자열 자체로 검색 \n",
    "#문자열 정규 표현식 등등으로 검색가능 \n",
    "print(1, soup.find_all(string='집단'))\n",
    "\n",
    "#필요 데이터 추출 \n",
    "print(title.string)\n",
    "print(contents.string)\n",
    "for i in range(0, 7):\n",
    "    print(all[i])\n"
   ]
  },
  {
   "cell_type": "markdown",
   "metadata": {},
   "source": [
    "예제 \n",
    "다음 사이트에서 링크가 되어있는 모든 제목을 가져와서 출력합니다. \n",
    "https://news.daum.net/digital#1\n",
    "\n"
   ]
  },
  {
   "cell_type": "code",
   "execution_count": 2,
   "metadata": {},
   "outputs": [
    {
     "name": "stdout",
     "output_type": "stream",
     "text": [
      "\n",
      "5G 가입자 2천만 돌파..클라우드 경쟁 치열\n",
      "\n",
      "\n",
      "\"뽀로로 지적재산권은 얼마? 제값 받아드려요\" 온버프\n",
      "\n",
      "\n",
      "임혜숙 과기장관 \"누리호 우주에 닿도록 전력\"\n",
      "\n",
      "\n",
      "돌아온 이루다, '불편하지 않은 답변'이 가능하려면\n",
      "\n",
      "\n",
      "\"삼성의 불량 복제품\" 중국 화웨이 '접는폰' 실체 이럴수가\n",
      "\n",
      "\"한국은 이상한 나라\" 조롱받던 '미성년 게임 제한' 1일 결국 폐지\n",
      "쿠팡이츠 저격 광고에..\"수고했상\" 선정한 배달의민족\n",
      "비트코인도, 이더도 아니다..2021년 가장 많이 오른 코인은\n",
      "'CCTV 딱 걸린' 카페 알바생 일탈..3500만뷰 대박에 이 업체 웃었다\n",
      "현실 융합 가상세계..대세일까 거품일까\n",
      "물이 100도에서 끓는 이유\n",
      "\"삼성의 불량 복제품\" 중국 화웨이 '접는폰' 실체 이럴수가\n",
      "삼성 '접는폰' 베꼈는데..풀썩 주저앉는 中 폴더블폰\n",
      "\n",
      "\"삼성의 불량 복제품\" 중국 화웨이 '접는폰' 실체 이럴수가\n",
      "\n",
      "\n",
      "삼성 '접는폰' 베꼈는데..풀썩 주저앉는 中 폴더블폰\n",
      "\n",
      "\n",
      "물이 100도에서 끓는 이유\n",
      "\n",
      "\n",
      "현실 융합 가상세계..대세일까 거품일까\n",
      "\n",
      "최후의 1인을 가린다!카카오 배틀그라운드\n",
      "대체불가 핵앤슬래시!  패스 오브 엑자일\n"
     ]
    }
   ],
   "source": [
    "import requests \n",
    "from bs4 import BeautifulSoup\n",
    "\n",
    "res = requests.get('https://news.daum.net/digital#1')\n",
    "\n",
    "#html 페이지 파싱 (html데이터, 파싱방법)\n",
    "soup = BeautifulSoup(res.content, 'html.parser')\n",
    "\n",
    "#필요한 데이터 검색 \n",
    "#find : 가장 먼저 검색되는 태그 반환 \n",
    "#find_all() : 전체 태그 반환 \n",
    "allTitle = soup.find_all('strong', class_='tit_thumb')\n",
    "\n",
    "for i in range(len(allTitle)):\n",
    "    print(allTitle[i].get_text())"
   ]
  },
  {
   "cell_type": "markdown",
   "metadata": {},
   "source": [
    "풀이 방법 \n",
    "가지고 오고 싶은 정보를 가진 웹페이지 구성요소에\n",
    "개발자 도구를 활용하여 공통된 태그, 클래스, 아이디, 스트링을 확인함 "
   ]
  }
 ],
 "metadata": {
  "interpreter": {
   "hash": "65426e0c565a84dc04c1becd604db6e5e8b9866a7848359ccdd6a7aa225e1ab9"
  },
  "kernelspec": {
   "display_name": "Python 3.10.1 64-bit",
   "language": "python",
   "name": "python3"
  },
  "language_info": {
   "codemirror_mode": {
    "name": "ipython",
    "version": 3
   },
   "file_extension": ".py",
   "mimetype": "text/x-python",
   "name": "python",
   "nbconvert_exporter": "python",
   "pygments_lexer": "ipython3",
   "version": "3.10.1"
  },
  "orig_nbformat": 4
 },
 "nbformat": 4,
 "nbformat_minor": 2
}
